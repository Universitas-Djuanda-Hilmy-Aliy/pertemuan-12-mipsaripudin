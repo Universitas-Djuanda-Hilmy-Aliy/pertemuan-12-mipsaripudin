{
  "nbformat": 4,
  "nbformat_minor": 0,
  "metadata": {
    "colab": {
      "provenance": []
    },
    "kernelspec": {
      "name": "python3",
      "display_name": "Python 3"
    },
    "language_info": {
      "name": "python"
    }
  },
  "cells": [
    {
      "cell_type": "markdown",
      "source": [
        "## Pre-Trained Model\n",
        "\n",
        "Menggunakan data yang sudah dilatih"
      ],
      "metadata": {
        "id": "F2rEW-kfTceF"
      }
    },
    {
      "cell_type": "code",
      "execution_count": 1,
      "metadata": {
        "colab": {
          "base_uri": "https://localhost:8080/"
        },
        "id": "8FfvTXewQzk-",
        "outputId": "7775e01e-c78c-4e5c-bb56-06f88d023e37"
      },
      "outputs": [
        {
          "output_type": "stream",
          "name": "stdout",
          "text": [
            "Downloading data from https://storage.googleapis.com/tensorflow/tf-keras-datasets/train-labels-idx1-ubyte.gz\n",
            "29515/29515 [==============================] - 0s 0us/step\n",
            "Downloading data from https://storage.googleapis.com/tensorflow/tf-keras-datasets/train-images-idx3-ubyte.gz\n",
            "26421880/26421880 [==============================] - 0s 0us/step\n",
            "Downloading data from https://storage.googleapis.com/tensorflow/tf-keras-datasets/t10k-labels-idx1-ubyte.gz\n",
            "5148/5148 [==============================] - 0s 0us/step\n",
            "Downloading data from https://storage.googleapis.com/tensorflow/tf-keras-datasets/t10k-images-idx3-ubyte.gz\n",
            "4422102/4422102 [==============================] - 0s 0us/step\n"
          ]
        }
      ],
      "source": [
        "import matplotlib.pyplot as plt\n",
        "from tensorflow.keras.datasets import fashion_mnist\n",
        "\n",
        "(train_images,train_labels),(test_images,test_labels) = fashion_mnist.load_data()"
      ]
    },
    {
      "cell_type": "code",
      "source": [
        "train_images = train_images.reshape((60000,28 * 28))\n",
        "train_images = train_images.astype(\"float32\") / 255\n",
        "\n",
        "test_images = test_images.reshape((10000,28 * 28))\n",
        "test_images = test_images.astype(\"float32\") / 255"
      ],
      "metadata": {
        "id": "6biJFxoySNfm"
      },
      "execution_count": 2,
      "outputs": []
    },
    {
      "cell_type": "code",
      "source": [
        "from tensorflow.keras.models import load_model"
      ],
      "metadata": {
        "id": "0LqClBIrSbl1"
      },
      "execution_count": 3,
      "outputs": []
    },
    {
      "cell_type": "code",
      "source": [
        "pretrained_model = load_model('model_mips_sar.h5')"
      ],
      "metadata": {
        "id": "6zfBz8gnSvL7"
      },
      "execution_count": 5,
      "outputs": []
    },
    {
      "cell_type": "code",
      "source": [
        "import numpy as np"
      ],
      "metadata": {
        "id": "mX8TlherTPdv"
      },
      "execution_count": 6,
      "outputs": []
    },
    {
      "cell_type": "code",
      "source": [
        "prediksi = pretrained_model(test_images)\n",
        "prediksi = prediksi.numpy() #supaya hasilnya array\n",
        "prediksi_label = np.argmax(prediksi,axis=1)\n",
        "prediksi_betul = prediksi_label == test_labels\n",
        "print(f\"akurasi hasil data test :{prediksi_betul.mean():.2f}\")"
      ],
      "metadata": {
        "colab": {
          "base_uri": "https://localhost:8080/"
        },
        "id": "dYYgTz55TKHH",
        "outputId": "182f4f47-8d63-439f-9fea-95461e63d1ee"
      },
      "execution_count": 7,
      "outputs": [
        {
          "output_type": "stream",
          "name": "stdout",
          "text": [
            "akurasi hasil data test :0.86\n"
          ]
        }
      ]
    },
    {
      "cell_type": "markdown",
      "source": [
        "## Underfitting"
      ],
      "metadata": {
        "id": "dhvCdKZkTu6f"
      }
    },
    {
      "cell_type": "markdown",
      "source": [
        "Definisi : Siutasi dimana model tidak dapat menangkap pola, yang cukup dalam proses training <br>\n",
        "\n",
        "Penyebab:\n",
        "1. Modelnya terlalu sederhana\n",
        "2. Data training terbatas\n",
        "3. Proses Training tidak cukup\n",
        "4. Parameter training tidak sesuai"
      ],
      "metadata": {
        "id": "Z44amiXKTzUl"
      }
    },
    {
      "cell_type": "markdown",
      "source": [
        "Cara mengatasi:\n",
        "1. Meningkatkan kompleksitas model\n",
        "2. Datanya lebih banyak dan representatif\n",
        "3. Menyesuaikan parameter"
      ],
      "metadata": {
        "id": "f2_xSf9w0Rv6"
      }
    },
    {
      "cell_type": "code",
      "source": [
        "#Arsitektur Modelnya\n",
        "import tensorflow as tf\n",
        "import numpy as np\n",
        "\n",
        "model_kedua = tf.keras.Sequential([\n",
        "        tf.keras.layers.Dense(10, activation = 'relu'),\n",
        "])"
      ],
      "metadata": {
        "id": "hn9N7crg0WZH"
      },
      "execution_count": 8,
      "outputs": []
    },
    {
      "cell_type": "code",
      "source": [
        "model_kedua.compile(optimizer ='rmsprop', loss='sparse_categorical_crossentropy', metrics=['accuracy'])"
      ],
      "metadata": {
        "id": "rF-ALSQP0XJr"
      },
      "execution_count": 9,
      "outputs": []
    },
    {
      "cell_type": "code",
      "source": [
        "model_kedua.fit(train_images,train_labels, epochs= 3, batch_size=124)"
      ],
      "metadata": {
        "colab": {
          "base_uri": "https://localhost:8080/"
        },
        "id": "3Vm1unH61dNP",
        "outputId": "7e0f7c9f-307a-4b83-ee14-22ad95f3abda"
      },
      "execution_count": 10,
      "outputs": [
        {
          "output_type": "stream",
          "name": "stdout",
          "text": [
            "Epoch 1/3\n",
            "484/484 [==============================] - 1s 2ms/step - loss: 2.4283 - accuracy: 0.1097\n",
            "Epoch 2/3\n",
            "484/484 [==============================] - 2s 3ms/step - loss: 2.2957 - accuracy: 0.1033\n",
            "Epoch 3/3\n",
            "484/484 [==============================] - 2s 3ms/step - loss: 2.2912 - accuracy: 0.1051\n"
          ]
        },
        {
          "output_type": "execute_result",
          "data": {
            "text/plain": [
              "<keras.src.callbacks.History at 0x7e63a667b730>"
            ]
          },
          "metadata": {},
          "execution_count": 10
        }
      ]
    },
    {
      "cell_type": "markdown",
      "source": [
        "# Learning Rate"
      ],
      "metadata": {
        "id": "6g0vksQt1hXP"
      }
    },
    {
      "cell_type": "markdown",
      "source": [
        "Definisi:\n",
        "Merupakan parameter penting dalam proses training, Learning rate merupakan nilai yang menentukan seberapa besar penyesuaian yang dilakukan pada bobot (weight) model pada setiap proses training"
      ],
      "metadata": {
        "id": "hfiz03LS1jno"
      }
    },
    {
      "cell_type": "markdown",
      "source": [
        "Learning rate mengontrol seberapa cepat atau lambat model untuk belajar.\n",
        "jika nilai learning rate tinggi, dapat menyebabkan model model cepat belajar, tapi beresiko melewatkan kesalahan.\n",
        "Jika learning ratenya rendah, maka model akan belajar lebih hati-hati, tetapi proses pembelajaran menjadi lebih lambat."
      ],
      "metadata": {
        "id": "QTTabTeo1kGw"
      }
    },
    {
      "cell_type": "code",
      "source": [
        "#Arsitektur Modelnya\n",
        "import tensorflow as tf\n",
        "import numpy as np\n",
        "\n",
        "model_kedua = tf.keras.Sequential([\n",
        "    tf.keras.layers.Dense(512, activation = 'relu'),\n",
        "    tf.keras.layers.Dropout(0.5),\n",
        "    tf.keras.layers.Dense(256, activation = 'relu'),\n",
        "    tf.keras.layers.Dropout(0.5),\n",
        "    tf.keras.layers.Dense(128, activation = 'relu'),\n",
        "    tf.keras.layers.Dense(64, activation = 'relu'),\n",
        "    tf.keras.layers.Dense(32, activation = 'relu'),\n",
        "    tf.keras.layers.Dense(10,activation = 'sigmoid')\n",
        "])"
      ],
      "metadata": {
        "id": "AqmF5YgG1mLx"
      },
      "execution_count": 11,
      "outputs": []
    },
    {
      "cell_type": "code",
      "source": [
        "learning_rate1 = 0.001"
      ],
      "metadata": {
        "id": "lS-25t5b1qjh"
      },
      "execution_count": 12,
      "outputs": []
    },
    {
      "cell_type": "code",
      "source": [
        "model_kedua.compile(optimizer =tf.keras.optimizers.RMSprop(learning_rate = learning_rate1), loss='sparse_categorical_crossentropy', metrics=['accuracy'])"
      ],
      "metadata": {
        "id": "omvtGnxk1s5I"
      },
      "execution_count": 13,
      "outputs": []
    },
    {
      "cell_type": "code",
      "source": [
        "model_kedua.fit(train_images,train_labels, epochs= 10, batch_size=256)"
      ],
      "metadata": {
        "colab": {
          "base_uri": "https://localhost:8080/"
        },
        "id": "rEMupPLl1wKu",
        "outputId": "60c51a03-f29f-4edc-b518-f76071a9d9b4"
      },
      "execution_count": 14,
      "outputs": [
        {
          "output_type": "stream",
          "name": "stdout",
          "text": [
            "Epoch 1/10\n",
            "235/235 [==============================] - 5s 19ms/step - loss: 0.8034 - accuracy: 0.6998\n",
            "Epoch 2/10\n",
            "235/235 [==============================] - 5s 22ms/step - loss: 0.5132 - accuracy: 0.8144\n",
            "Epoch 3/10\n",
            "235/235 [==============================] - 5s 22ms/step - loss: 0.4594 - accuracy: 0.8328\n",
            "Epoch 4/10\n",
            "235/235 [==============================] - 4s 19ms/step - loss: 0.4264 - accuracy: 0.8454\n",
            "Epoch 5/10\n",
            "235/235 [==============================] - 6s 25ms/step - loss: 0.4077 - accuracy: 0.8520\n",
            "Epoch 6/10\n",
            "235/235 [==============================] - 4s 19ms/step - loss: 0.3899 - accuracy: 0.8591\n",
            "Epoch 7/10\n",
            "235/235 [==============================] - 4s 19ms/step - loss: 0.3821 - accuracy: 0.8620\n",
            "Epoch 8/10\n",
            "235/235 [==============================] - 6s 24ms/step - loss: 0.3690 - accuracy: 0.8658\n",
            "Epoch 9/10\n",
            "235/235 [==============================] - 4s 19ms/step - loss: 0.3629 - accuracy: 0.8694\n",
            "Epoch 10/10\n",
            "235/235 [==============================] - 5s 21ms/step - loss: 0.3528 - accuracy: 0.8716\n"
          ]
        },
        {
          "output_type": "execute_result",
          "data": {
            "text/plain": [
              "<keras.src.callbacks.History at 0x7e6398435d50>"
            ]
          },
          "metadata": {},
          "execution_count": 14
        }
      ]
    }
  ]
}